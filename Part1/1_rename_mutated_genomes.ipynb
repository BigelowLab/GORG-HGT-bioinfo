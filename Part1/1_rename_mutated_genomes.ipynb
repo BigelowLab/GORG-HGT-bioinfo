{
 "cells": [
  {
   "cell_type": "markdown",
   "metadata": {},
   "source": [
    "# 0 rename mutated genomes\n",
    "### Goal:\n",
    "For each **\"mutated.fasta\"** in GORG-HGT/GND_sim/genome_pairs/pair_[*0..4*]/mutated_BLOSUM62_AG-[*blah_blah*]/mutated.fasta:<Br>\n",
    "Give it a more useful name like **\"mutated_BLOSUM62_AG-359-G18_a22_aad001.fasta\"**"
   ]
  },
  {
   "cell_type": "code",
   "execution_count": 32,
   "metadata": {},
   "outputs": [
    {
     "name": "stdout",
     "output_type": "stream",
     "text": [
      "0\n",
      "1\n",
      "2\n",
      "3\n",
      "4\n",
      "All renamed.\n"
     ]
    }
   ],
   "source": [
    "from glob import glob\n",
    "import shutil\n",
    "import os\n",
    "from os.path import exists\n",
    "\n",
    "for i in range(0,5):\n",
    "    print(str(i))\n",
    "    LIST_to_copy = glob(\"GORG-HGT/GND_sim/genome_pairs/pair_\"+str(i)+\"/mutated*/mutated.fasta\")\n",
    "    for SRC in LIST_to_copy:\n",
    "        #print(SRC)\n",
    "        #STR_basename = SRC.split('/')[-2]\n",
    "        STR_basename = SRC.split('/')[-2].replace('mutated_BLOSUM62_','')\n",
    "        DST = \"./input/0_mutated_genomes/\" + STR_basename + \".fasta\"\n",
    "        shutil.copyfile(SRC, DST)\n",
    "        #if not exists(DST):\n",
    "        #    shutil.copyfile(SRC, DST)\n",
    "print(\"All renamed.\")"
   ]
  },
  {
   "cell_type": "code",
   "execution_count": 25,
   "metadata": {},
   "outputs": [
    {
     "name": "stdout",
     "output_type": "stream",
     "text": [
      "GORG-HGT/GND_sim/genome_pairs/pair_4/mutated_BLOSUM62_AG-390-N04_a22_aad001/mutated.fasta\n",
      "./input/0_mutated_genomes/mutated_BLOSUM62_AG-390-N04_a22_aad001.fasta\n",
      "GORG-HGT/GND_sim/genome_pairs/pair_4/mutated_BLOSUM62_AG-390-N04_a22_aad003/mutated.fasta\n",
      "./input/0_mutated_genomes/mutated_BLOSUM62_AG-390-N04_a22_aad003.fasta\n",
      "GORG-HGT/GND_sim/genome_pairs/pair_4/mutated_BLOSUM62_AG-390-N04_a22_aad005/mutated.fasta\n",
      "./input/0_mutated_genomes/mutated_BLOSUM62_AG-390-N04_a22_aad005.fasta\n",
      "GORG-HGT/GND_sim/genome_pairs/pair_4/mutated_BLOSUM62_AG-390-N04_a22_aad007/mutated.fasta\n",
      "./input/0_mutated_genomes/mutated_BLOSUM62_AG-390-N04_a22_aad007.fasta\n",
      "GORG-HGT/GND_sim/genome_pairs/pair_4/mutated_BLOSUM62_AG-390-N04_a22_aad009/mutated.fasta\n",
      "./input/0_mutated_genomes/mutated_BLOSUM62_AG-390-N04_a22_aad009.fasta\n",
      "GORG-HGT/GND_sim/genome_pairs/pair_4/mutated_BLOSUM62_AG-390-N04_a22_aad011/mutated.fasta\n",
      "./input/0_mutated_genomes/mutated_BLOSUM62_AG-390-N04_a22_aad011.fasta\n",
      "GORG-HGT/GND_sim/genome_pairs/pair_4/mutated_BLOSUM62_AG-390-N04_a22_aad013/mutated.fasta\n",
      "./input/0_mutated_genomes/mutated_BLOSUM62_AG-390-N04_a22_aad013.fasta\n",
      "GORG-HGT/GND_sim/genome_pairs/pair_4/mutated_BLOSUM62_AG-390-N04_a22_aad015/mutated.fasta\n",
      "./input/0_mutated_genomes/mutated_BLOSUM62_AG-390-N04_a22_aad015.fasta\n",
      "GORG-HGT/GND_sim/genome_pairs/pair_4/mutated_BLOSUM62_AG-390-N04_a22_aad017/mutated.fasta\n",
      "./input/0_mutated_genomes/mutated_BLOSUM62_AG-390-N04_a22_aad017.fasta\n",
      "GORG-HGT/GND_sim/genome_pairs/pair_4/mutated_BLOSUM62_AG-390-N04_a22_aad019/mutated.fasta\n",
      "./input/0_mutated_genomes/mutated_BLOSUM62_AG-390-N04_a22_aad019.fasta\n",
      "GORG-HGT/GND_sim/genome_pairs/pair_4/mutated_BLOSUM62_AG-390-N04_a22_aad021/mutated.fasta\n",
      "./input/0_mutated_genomes/mutated_BLOSUM62_AG-390-N04_a22_aad021.fasta\n",
      "GORG-HGT/GND_sim/genome_pairs/pair_4/mutated_BLOSUM62_AG-390-N04_a22_aad023/mutated.fasta\n",
      "./input/0_mutated_genomes/mutated_BLOSUM62_AG-390-N04_a22_aad023.fasta\n",
      "GORG-HGT/GND_sim/genome_pairs/pair_4/mutated_BLOSUM62_AG-390-N04_a22_aad025/mutated.fasta\n",
      "./input/0_mutated_genomes/mutated_BLOSUM62_AG-390-N04_a22_aad025.fasta\n",
      "GORG-HGT/GND_sim/genome_pairs/pair_4/mutated_BLOSUM62_AG-390-N04_a22_aad027/mutated.fasta\n",
      "./input/0_mutated_genomes/mutated_BLOSUM62_AG-390-N04_a22_aad027.fasta\n",
      "GORG-HGT/GND_sim/genome_pairs/pair_4/mutated_BLOSUM62_AG-390-N04_a22_aad029/mutated.fasta\n",
      "./input/0_mutated_genomes/mutated_BLOSUM62_AG-390-N04_a22_aad029.fasta\n",
      "GORG-HGT/GND_sim/genome_pairs/pair_4/mutated_BLOSUM62_AG-390-N04_a22_aad031/mutated.fasta\n",
      "./input/0_mutated_genomes/mutated_BLOSUM62_AG-390-N04_a22_aad031.fasta\n",
      "GORG-HGT/GND_sim/genome_pairs/pair_4/mutated_BLOSUM62_AG-390-N04_a22_aad033/mutated.fasta\n",
      "./input/0_mutated_genomes/mutated_BLOSUM62_AG-390-N04_a22_aad033.fasta\n",
      "GORG-HGT/GND_sim/genome_pairs/pair_4/mutated_BLOSUM62_AG-390-N04_a22_aad035/mutated.fasta\n",
      "./input/0_mutated_genomes/mutated_BLOSUM62_AG-390-N04_a22_aad035.fasta\n",
      "GORG-HGT/GND_sim/genome_pairs/pair_4/mutated_BLOSUM62_AG-390-N04_a22_aad037/mutated.fasta\n",
      "./input/0_mutated_genomes/mutated_BLOSUM62_AG-390-N04_a22_aad037.fasta\n",
      "GORG-HGT/GND_sim/genome_pairs/pair_4/mutated_BLOSUM62_AG-390-N04_a22_aad039/mutated.fasta\n",
      "./input/0_mutated_genomes/mutated_BLOSUM62_AG-390-N04_a22_aad039.fasta\n",
      "GORG-HGT/GND_sim/genome_pairs/pair_4/mutated_BLOSUM62_AG-390-N04_a22_aad041/mutated.fasta\n",
      "./input/0_mutated_genomes/mutated_BLOSUM62_AG-390-N04_a22_aad041.fasta\n",
      "GORG-HGT/GND_sim/genome_pairs/pair_4/mutated_BLOSUM62_AG-390-N04_a22_aad043/mutated.fasta\n",
      "./input/0_mutated_genomes/mutated_BLOSUM62_AG-390-N04_a22_aad043.fasta\n",
      "GORG-HGT/GND_sim/genome_pairs/pair_4/mutated_BLOSUM62_AG-390-N04_a22_aad045/mutated.fasta\n",
      "./input/0_mutated_genomes/mutated_BLOSUM62_AG-390-N04_a22_aad045.fasta\n",
      "GORG-HGT/GND_sim/genome_pairs/pair_4/mutated_BLOSUM62_AG-390-N04_a22_aad047/mutated.fasta\n",
      "./input/0_mutated_genomes/mutated_BLOSUM62_AG-390-N04_a22_aad047.fasta\n",
      "GORG-HGT/GND_sim/genome_pairs/pair_4/mutated_BLOSUM62_AG-390-N04_a22_aad049/mutated.fasta\n",
      "./input/0_mutated_genomes/mutated_BLOSUM62_AG-390-N04_a22_aad049.fasta\n",
      "GORG-HGT/GND_sim/genome_pairs/pair_4/mutated_BLOSUM62_AG-390-N04_a22_aad051/mutated.fasta\n",
      "./input/0_mutated_genomes/mutated_BLOSUM62_AG-390-N04_a22_aad051.fasta\n",
      "GORG-HGT/GND_sim/genome_pairs/pair_4/mutated_BLOSUM62_AG-390-N04_a22_aad053/mutated.fasta\n",
      "./input/0_mutated_genomes/mutated_BLOSUM62_AG-390-N04_a22_aad053.fasta\n",
      "GORG-HGT/GND_sim/genome_pairs/pair_4/mutated_BLOSUM62_AG-390-N04_a22_aad055/mutated.fasta\n",
      "./input/0_mutated_genomes/mutated_BLOSUM62_AG-390-N04_a22_aad055.fasta\n",
      "GORG-HGT/GND_sim/genome_pairs/pair_4/mutated_BLOSUM62_AG-390-N04_a22_aad057/mutated.fasta\n",
      "./input/0_mutated_genomes/mutated_BLOSUM62_AG-390-N04_a22_aad057.fasta\n",
      "GORG-HGT/GND_sim/genome_pairs/pair_4/mutated_BLOSUM62_AG-390-N04_a22_aad059/mutated.fasta\n",
      "./input/0_mutated_genomes/mutated_BLOSUM62_AG-390-N04_a22_aad059.fasta\n",
      "GORG-HGT/GND_sim/genome_pairs/pair_4/mutated_BLOSUM62_AG-390-N04_a22_aad061/mutated.fasta\n",
      "./input/0_mutated_genomes/mutated_BLOSUM62_AG-390-N04_a22_aad061.fasta\n",
      "GORG-HGT/GND_sim/genome_pairs/pair_4/mutated_BLOSUM62_AG-390-N04_a22_aad063/mutated.fasta\n",
      "./input/0_mutated_genomes/mutated_BLOSUM62_AG-390-N04_a22_aad063.fasta\n",
      "GORG-HGT/GND_sim/genome_pairs/pair_4/mutated_BLOSUM62_AG-390-N04_a22_aad065/mutated.fasta\n",
      "./input/0_mutated_genomes/mutated_BLOSUM62_AG-390-N04_a22_aad065.fasta\n",
      "GORG-HGT/GND_sim/genome_pairs/pair_4/mutated_BLOSUM62_AG-390-N04_a22_aad067/mutated.fasta\n",
      "./input/0_mutated_genomes/mutated_BLOSUM62_AG-390-N04_a22_aad067.fasta\n",
      "GORG-HGT/GND_sim/genome_pairs/pair_4/mutated_BLOSUM62_AG-390-N04_a22_aad069/mutated.fasta\n",
      "./input/0_mutated_genomes/mutated_BLOSUM62_AG-390-N04_a22_aad069.fasta\n",
      "GORG-HGT/GND_sim/genome_pairs/pair_4/mutated_BLOSUM62_AG-435-F03_a22_aad001/mutated.fasta\n",
      "./input/0_mutated_genomes/mutated_BLOSUM62_AG-435-F03_a22_aad001.fasta\n",
      "GORG-HGT/GND_sim/genome_pairs/pair_4/mutated_BLOSUM62_AG-435-F03_a22_aad003/mutated.fasta\n",
      "./input/0_mutated_genomes/mutated_BLOSUM62_AG-435-F03_a22_aad003.fasta\n",
      "GORG-HGT/GND_sim/genome_pairs/pair_4/mutated_BLOSUM62_AG-435-F03_a22_aad005/mutated.fasta\n",
      "./input/0_mutated_genomes/mutated_BLOSUM62_AG-435-F03_a22_aad005.fasta\n",
      "GORG-HGT/GND_sim/genome_pairs/pair_4/mutated_BLOSUM62_AG-435-F03_a22_aad007/mutated.fasta\n",
      "./input/0_mutated_genomes/mutated_BLOSUM62_AG-435-F03_a22_aad007.fasta\n",
      "GORG-HGT/GND_sim/genome_pairs/pair_4/mutated_BLOSUM62_AG-435-F03_a22_aad009/mutated.fasta\n",
      "./input/0_mutated_genomes/mutated_BLOSUM62_AG-435-F03_a22_aad009.fasta\n",
      "GORG-HGT/GND_sim/genome_pairs/pair_4/mutated_BLOSUM62_AG-435-F03_a22_aad011/mutated.fasta\n",
      "./input/0_mutated_genomes/mutated_BLOSUM62_AG-435-F03_a22_aad011.fasta\n",
      "GORG-HGT/GND_sim/genome_pairs/pair_4/mutated_BLOSUM62_AG-435-F03_a22_aad013/mutated.fasta\n",
      "./input/0_mutated_genomes/mutated_BLOSUM62_AG-435-F03_a22_aad013.fasta\n",
      "GORG-HGT/GND_sim/genome_pairs/pair_4/mutated_BLOSUM62_AG-435-F03_a22_aad015/mutated.fasta\n",
      "./input/0_mutated_genomes/mutated_BLOSUM62_AG-435-F03_a22_aad015.fasta\n",
      "GORG-HGT/GND_sim/genome_pairs/pair_4/mutated_BLOSUM62_AG-435-F03_a22_aad017/mutated.fasta\n",
      "./input/0_mutated_genomes/mutated_BLOSUM62_AG-435-F03_a22_aad017.fasta\n",
      "GORG-HGT/GND_sim/genome_pairs/pair_4/mutated_BLOSUM62_AG-435-F03_a22_aad019/mutated.fasta\n",
      "./input/0_mutated_genomes/mutated_BLOSUM62_AG-435-F03_a22_aad019.fasta\n",
      "GORG-HGT/GND_sim/genome_pairs/pair_4/mutated_BLOSUM62_AG-435-F03_a22_aad021/mutated.fasta\n",
      "./input/0_mutated_genomes/mutated_BLOSUM62_AG-435-F03_a22_aad021.fasta\n",
      "GORG-HGT/GND_sim/genome_pairs/pair_4/mutated_BLOSUM62_AG-435-F03_a22_aad023/mutated.fasta\n",
      "./input/0_mutated_genomes/mutated_BLOSUM62_AG-435-F03_a22_aad023.fasta\n",
      "GORG-HGT/GND_sim/genome_pairs/pair_4/mutated_BLOSUM62_AG-435-F03_a22_aad025/mutated.fasta\n",
      "./input/0_mutated_genomes/mutated_BLOSUM62_AG-435-F03_a22_aad025.fasta\n",
      "GORG-HGT/GND_sim/genome_pairs/pair_4/mutated_BLOSUM62_AG-435-F03_a22_aad027/mutated.fasta\n",
      "./input/0_mutated_genomes/mutated_BLOSUM62_AG-435-F03_a22_aad027.fasta\n",
      "GORG-HGT/GND_sim/genome_pairs/pair_4/mutated_BLOSUM62_AG-435-F03_a22_aad029/mutated.fasta\n",
      "./input/0_mutated_genomes/mutated_BLOSUM62_AG-435-F03_a22_aad029.fasta\n",
      "GORG-HGT/GND_sim/genome_pairs/pair_4/mutated_BLOSUM62_AG-435-F03_a22_aad031/mutated.fasta\n",
      "./input/0_mutated_genomes/mutated_BLOSUM62_AG-435-F03_a22_aad031.fasta\n",
      "GORG-HGT/GND_sim/genome_pairs/pair_4/mutated_BLOSUM62_AG-435-F03_a22_aad033/mutated.fasta\n",
      "./input/0_mutated_genomes/mutated_BLOSUM62_AG-435-F03_a22_aad033.fasta\n",
      "GORG-HGT/GND_sim/genome_pairs/pair_4/mutated_BLOSUM62_AG-435-F03_a22_aad035/mutated.fasta\n",
      "./input/0_mutated_genomes/mutated_BLOSUM62_AG-435-F03_a22_aad035.fasta\n",
      "GORG-HGT/GND_sim/genome_pairs/pair_4/mutated_BLOSUM62_AG-435-F03_a22_aad037/mutated.fasta\n",
      "./input/0_mutated_genomes/mutated_BLOSUM62_AG-435-F03_a22_aad037.fasta\n",
      "GORG-HGT/GND_sim/genome_pairs/pair_4/mutated_BLOSUM62_AG-435-F03_a22_aad039/mutated.fasta\n",
      "./input/0_mutated_genomes/mutated_BLOSUM62_AG-435-F03_a22_aad039.fasta\n",
      "GORG-HGT/GND_sim/genome_pairs/pair_4/mutated_BLOSUM62_AG-435-F03_a22_aad041/mutated.fasta\n",
      "./input/0_mutated_genomes/mutated_BLOSUM62_AG-435-F03_a22_aad041.fasta\n",
      "GORG-HGT/GND_sim/genome_pairs/pair_4/mutated_BLOSUM62_AG-435-F03_a22_aad043/mutated.fasta\n",
      "./input/0_mutated_genomes/mutated_BLOSUM62_AG-435-F03_a22_aad043.fasta\n",
      "GORG-HGT/GND_sim/genome_pairs/pair_4/mutated_BLOSUM62_AG-435-F03_a22_aad045/mutated.fasta\n",
      "./input/0_mutated_genomes/mutated_BLOSUM62_AG-435-F03_a22_aad045.fasta\n",
      "GORG-HGT/GND_sim/genome_pairs/pair_4/mutated_BLOSUM62_AG-435-F03_a22_aad047/mutated.fasta\n",
      "./input/0_mutated_genomes/mutated_BLOSUM62_AG-435-F03_a22_aad047.fasta\n",
      "GORG-HGT/GND_sim/genome_pairs/pair_4/mutated_BLOSUM62_AG-435-F03_a22_aad049/mutated.fasta\n",
      "./input/0_mutated_genomes/mutated_BLOSUM62_AG-435-F03_a22_aad049.fasta\n",
      "GORG-HGT/GND_sim/genome_pairs/pair_4/mutated_BLOSUM62_AG-435-F03_a22_aad051/mutated.fasta\n",
      "./input/0_mutated_genomes/mutated_BLOSUM62_AG-435-F03_a22_aad051.fasta\n",
      "GORG-HGT/GND_sim/genome_pairs/pair_4/mutated_BLOSUM62_AG-435-F03_a22_aad053/mutated.fasta\n",
      "./input/0_mutated_genomes/mutated_BLOSUM62_AG-435-F03_a22_aad053.fasta\n",
      "GORG-HGT/GND_sim/genome_pairs/pair_4/mutated_BLOSUM62_AG-435-F03_a22_aad055/mutated.fasta\n",
      "./input/0_mutated_genomes/mutated_BLOSUM62_AG-435-F03_a22_aad055.fasta\n",
      "GORG-HGT/GND_sim/genome_pairs/pair_4/mutated_BLOSUM62_AG-435-F03_a22_aad057/mutated.fasta\n",
      "./input/0_mutated_genomes/mutated_BLOSUM62_AG-435-F03_a22_aad057.fasta\n",
      "GORG-HGT/GND_sim/genome_pairs/pair_4/mutated_BLOSUM62_AG-435-F03_a22_aad059/mutated.fasta\n",
      "./input/0_mutated_genomes/mutated_BLOSUM62_AG-435-F03_a22_aad059.fasta\n",
      "GORG-HGT/GND_sim/genome_pairs/pair_4/mutated_BLOSUM62_AG-435-F03_a22_aad061/mutated.fasta\n",
      "./input/0_mutated_genomes/mutated_BLOSUM62_AG-435-F03_a22_aad061.fasta\n",
      "GORG-HGT/GND_sim/genome_pairs/pair_4/mutated_BLOSUM62_AG-435-F03_a22_aad063/mutated.fasta\n",
      "./input/0_mutated_genomes/mutated_BLOSUM62_AG-435-F03_a22_aad063.fasta\n",
      "GORG-HGT/GND_sim/genome_pairs/pair_4/mutated_BLOSUM62_AG-435-F03_a22_aad065/mutated.fasta\n",
      "./input/0_mutated_genomes/mutated_BLOSUM62_AG-435-F03_a22_aad065.fasta\n",
      "GORG-HGT/GND_sim/genome_pairs/pair_4/mutated_BLOSUM62_AG-435-F03_a22_aad067/mutated.fasta\n",
      "./input/0_mutated_genomes/mutated_BLOSUM62_AG-435-F03_a22_aad067.fasta\n",
      "GORG-HGT/GND_sim/genome_pairs/pair_4/mutated_BLOSUM62_AG-435-F03_a22_aad069/mutated.fasta\n",
      "./input/0_mutated_genomes/mutated_BLOSUM62_AG-435-F03_a22_aad069.fasta\n"
     ]
    }
   ],
   "source": []
  },
  {
   "cell_type": "code",
   "execution_count": 22,
   "metadata": {},
   "outputs": [
    {
     "data": {
      "text/plain": [
       "'pair_4'"
      ]
     },
     "execution_count": 22,
     "metadata": {},
     "output_type": "execute_result"
    }
   ],
   "source": [
    "LIST_to_copy[0].split('/')[-3]"
   ]
  },
  {
   "cell_type": "code",
   "execution_count": 15,
   "metadata": {},
   "outputs": [
    {
     "name": "stdout",
     "output_type": "stream",
     "text": [
      "gnd_aad.txt  mutated.fasta  mutated_genes.faa\n"
     ]
    }
   ],
   "source": [
    "!ls GORG-HGT/GND_sim/genome_pairs/pair_0/mutated_BLOSUM62_AG-359-G18_a22_aad001"
   ]
  },
  {
   "cell_type": "code",
   "execution_count": 4,
   "metadata": {},
   "outputs": [
    {
     "name": "stdout",
     "output_type": "stream",
     "text": [
      "AG-359-G18_contigs.fasta\t\tmutated_BLOSUM62_AG-359-G18_a22_aad063\n",
      "AG-359-G18_contigs_genes.faa\t\tmutated_BLOSUM62_AG-359-G18_a22_aad065\n",
      "AG-359-G18_contigs_genes.fna\t\tmutated_BLOSUM62_AG-359-G18_a22_aad067\n",
      "AG-359-G18_contigs.gff\t\t\tmutated_BLOSUM62_AG-359-G18_a22_aad069\n",
      "AG-894-K15_contigs.fasta\t\tmutated_BLOSUM62_AG-894-K15_a22_aad001\n",
      "AG-894-K15_contigs_genes.faa\t\tmutated_BLOSUM62_AG-894-K15_a22_aad003\n",
      "AG-894-K15_contigs_genes.fna\t\tmutated_BLOSUM62_AG-894-K15_a22_aad005\n",
      "AG-894-K15_contigs.gff\t\t\tmutated_BLOSUM62_AG-894-K15_a22_aad007\n",
      "mutated_BLOSUM62_AG-359-G18_a22_aad001\tmutated_BLOSUM62_AG-894-K15_a22_aad009\n",
      "mutated_BLOSUM62_AG-359-G18_a22_aad003\tmutated_BLOSUM62_AG-894-K15_a22_aad011\n",
      "mutated_BLOSUM62_AG-359-G18_a22_aad005\tmutated_BLOSUM62_AG-894-K15_a22_aad013\n",
      "mutated_BLOSUM62_AG-359-G18_a22_aad007\tmutated_BLOSUM62_AG-894-K15_a22_aad015\n",
      "mutated_BLOSUM62_AG-359-G18_a22_aad009\tmutated_BLOSUM62_AG-894-K15_a22_aad017\n",
      "mutated_BLOSUM62_AG-359-G18_a22_aad011\tmutated_BLOSUM62_AG-894-K15_a22_aad019\n",
      "mutated_BLOSUM62_AG-359-G18_a22_aad013\tmutated_BLOSUM62_AG-894-K15_a22_aad021\n",
      "mutated_BLOSUM62_AG-359-G18_a22_aad015\tmutated_BLOSUM62_AG-894-K15_a22_aad023\n",
      "mutated_BLOSUM62_AG-359-G18_a22_aad017\tmutated_BLOSUM62_AG-894-K15_a22_aad025\n",
      "mutated_BLOSUM62_AG-359-G18_a22_aad019\tmutated_BLOSUM62_AG-894-K15_a22_aad027\n",
      "mutated_BLOSUM62_AG-359-G18_a22_aad021\tmutated_BLOSUM62_AG-894-K15_a22_aad029\n",
      "mutated_BLOSUM62_AG-359-G18_a22_aad023\tmutated_BLOSUM62_AG-894-K15_a22_aad031\n",
      "mutated_BLOSUM62_AG-359-G18_a22_aad025\tmutated_BLOSUM62_AG-894-K15_a22_aad033\n",
      "mutated_BLOSUM62_AG-359-G18_a22_aad027\tmutated_BLOSUM62_AG-894-K15_a22_aad035\n",
      "mutated_BLOSUM62_AG-359-G18_a22_aad029\tmutated_BLOSUM62_AG-894-K15_a22_aad037\n",
      "mutated_BLOSUM62_AG-359-G18_a22_aad031\tmutated_BLOSUM62_AG-894-K15_a22_aad039\n",
      "mutated_BLOSUM62_AG-359-G18_a22_aad033\tmutated_BLOSUM62_AG-894-K15_a22_aad041\n",
      "mutated_BLOSUM62_AG-359-G18_a22_aad035\tmutated_BLOSUM62_AG-894-K15_a22_aad043\n",
      "mutated_BLOSUM62_AG-359-G18_a22_aad037\tmutated_BLOSUM62_AG-894-K15_a22_aad045\n",
      "mutated_BLOSUM62_AG-359-G18_a22_aad039\tmutated_BLOSUM62_AG-894-K15_a22_aad047\n",
      "mutated_BLOSUM62_AG-359-G18_a22_aad041\tmutated_BLOSUM62_AG-894-K15_a22_aad049\n",
      "mutated_BLOSUM62_AG-359-G18_a22_aad043\tmutated_BLOSUM62_AG-894-K15_a22_aad051\n",
      "mutated_BLOSUM62_AG-359-G18_a22_aad045\tmutated_BLOSUM62_AG-894-K15_a22_aad053\n",
      "mutated_BLOSUM62_AG-359-G18_a22_aad047\tmutated_BLOSUM62_AG-894-K15_a22_aad055\n",
      "mutated_BLOSUM62_AG-359-G18_a22_aad049\tmutated_BLOSUM62_AG-894-K15_a22_aad057\n",
      "mutated_BLOSUM62_AG-359-G18_a22_aad051\tmutated_BLOSUM62_AG-894-K15_a22_aad059\n",
      "mutated_BLOSUM62_AG-359-G18_a22_aad053\tmutated_BLOSUM62_AG-894-K15_a22_aad061\n",
      "mutated_BLOSUM62_AG-359-G18_a22_aad055\tmutated_BLOSUM62_AG-894-K15_a22_aad063\n",
      "mutated_BLOSUM62_AG-359-G18_a22_aad057\tmutated_BLOSUM62_AG-894-K15_a22_aad065\n",
      "mutated_BLOSUM62_AG-359-G18_a22_aad059\tmutated_BLOSUM62_AG-894-K15_a22_aad067\n",
      "mutated_BLOSUM62_AG-359-G18_a22_aad061\tmutated_BLOSUM62_AG-894-K15_a22_aad069\n"
     ]
    }
   ],
   "source": [
    "!ls GORG-HGT/GND_sim/genome_pairs/pair_0/mutated"
   ]
  },
  {
   "cell_type": "code",
   "execution_count": null,
   "metadata": {},
   "outputs": [],
   "source": []
  }
 ],
 "metadata": {
  "kernelspec": {
   "display_name": "Python 3",
   "language": "python",
   "name": "python3"
  },
  "language_info": {
   "codemirror_mode": {
    "name": "ipython",
    "version": 3
   },
   "file_extension": ".py",
   "mimetype": "text/x-python",
   "name": "python",
   "nbconvert_exporter": "python",
   "pygments_lexer": "ipython3",
   "version": "3.7.3"
  }
 },
 "nbformat": 4,
 "nbformat_minor": 4
}
