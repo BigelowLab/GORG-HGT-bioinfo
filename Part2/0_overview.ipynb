{
 "cells": [
  {
   "cell_type": "markdown",
   "metadata": {},
   "source": [
    "## Overview (pt2 Siaviash HGT)"
   ]
  },
  {
   "cell_type": "markdown",
   "metadata": {},
   "source": [
    "Based on instructions here:\n",
    "    [https://github.com/BigelowLab/GORG-HGT-bioinfo/blob/main/Ortholog_comparison_instructions.ipynb]<br>\n",
    "    \n",
    "And also from Shayestah, here:\n",
    ">I have simulated the data for all available base genomes. For each base genome, I did the simulations for two alpha values (5.28 and 22) and 26 different values for p ({0, 0.0005, 0.001, 0.002, 0.004, 0.008} and 0.01 to 0.20). You can find the simulated data in the link below. **It would be great if you could generate the same tables for these base genomes where the pairs of genomes come from the same base genome and alpha value.** Please let me know if you had any questions about this dataset.\n",
    "    \n",
    "# Setup input files, folders, tarballs\n",
    "1. Use  **1_setup.ipynb** to rename Shayestah's genomes (e.g. 'mutated.fasta' -> 'AG-359-G18_a22_aad001.fasta') and put them into their respective experiment folder (AG-359-G18_a22/).\n",
    "2. Use **2_zip_genomes.sh** to zip each experiment folder ( -> AG-359-G18_a22.tar.gz)"
   ]
  },
  {
   "cell_type": "code",
   "execution_count": null,
   "metadata": {},
   "outputs": [],
   "source": [
    "Analysis"
   ]
  }
 ],
 "metadata": {
  "kernelspec": {
   "display_name": "Python 3",
   "language": "python",
   "name": "python3"
  },
  "language_info": {
   "codemirror_mode": {
    "name": "ipython",
    "version": 3
   },
   "file_extension": ".py",
   "mimetype": "text/x-python",
   "name": "python",
   "nbconvert_exporter": "python",
   "pygments_lexer": "ipython3",
   "version": "3.7.3"
  }
 },
 "nbformat": 4,
 "nbformat_minor": 4
}
