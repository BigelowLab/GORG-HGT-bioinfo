{
 "cells": [
  {
   "cell_type": "markdown",
   "metadata": {},
   "source": [
    "## Rename and group genomes (pt2 Siavash HGT)"
   ]
  },
  {
   "cell_type": "markdown",
   "metadata": {},
   "source": [
    "### I. Rename each genome:\n",
    "For each **\"mutated.fasta\"** in ./input/simulated_genomes/*/mutated_*/mutated.fasta:<Br>\n",
    "Give it a more useful name like **\"AG-359-G18_a22_aad001.fasta\"**"
   ]
  },
  {
   "cell_type": "code",
   "execution_count": 11,
   "metadata": {},
   "outputs": [
    {
     "name": "stderr",
     "output_type": "stream",
     "text": [
      "/mnt/scgc/scgc_nfs/opt/common/anaconda3a/lib/python3.7/site-packages/pandas/compat/_optional.py:138: UserWarning: Pandas requires version '2.7.0' or newer of 'numexpr' (version '2.6.9' currently installed).\n",
      "  warnings.warn(msg, UserWarning)\n"
     ]
    },
    {
     "name": "stdout",
     "output_type": "stream",
     "text": [
      "All renamed\n"
     ]
    }
   ],
   "source": [
    "import pandas as pd\n",
    "from glob import glob\n",
    "import shutil\n",
    "import os\n",
    "from os.path import exists\n",
    "\n",
    "PATTERN_input = \"./input/simulated_genomes/*/mutated_*/mutated.fasta\"\n",
    "DIR_mid = \"./mid/0_mutated_genomes/\"\n",
    "DIR_out = \"./mid/1_grouped_genomes/\"\n",
    "\n",
    "LIST_to_copy = glob(PATTERN_input)\n",
    "for SRC in LIST_to_copy:\n",
    "    #print(SRC)\n",
    "    #STR_basename = SRC.split('/')[-2]\n",
    "    STR_basename = SRC.split('/')[-2].replace('mutated_BLOSUM62_','')\n",
    "    DST = DIR_mid + STR_basename + \".fasta\"\n",
    "    if not exists(DST):\n",
    "        shutil.copyfile(SRC, DST)\n",
    "\n",
    "print(\"All renamed\")"
   ]
  },
  {
   "cell_type": "markdown",
   "metadata": {},
   "source": [
    "### II. Group each genome\n",
    "...into sets that share both a base genome and alpha value (e.g. 'AG-315-G18_a22').<Br>\n",
    "Such that genomes in a group would differ only by average amino acid distance (aad):\n",
    "* 'AG-315-G18_a22_**aad0005**.fasta'\n",
    "* 'AG-315-G18_a22_**aad001**.fasta'\n",
    "* 'AG-315-G18_a22_**aad002**.fasta'\n",
    "* etc..\n",
    "\n",
    "#### Why?\n",
    "Because in the next section we will run ANI on pairs among these genomes"
   ]
  },
  {
   "cell_type": "code",
   "execution_count": 63,
   "metadata": {},
   "outputs": [
    {
     "name": "stdout",
     "output_type": "stream",
     "text": [
      "Grouping 1456 fastas based on their source genome and aad\n",
      "Made folder for each group\n",
      "Copied each file into its group directory\n"
     ]
    }
   ],
   "source": [
    "### Group each fasta by its source genome and aad (e.g. \"AG-315-G18_a22\" has a group of 26 fastas with different aad values)\n",
    "LIST_files_to_group = glob(DIR_mid + \"*.fasta\")\n",
    "DF = pd.DataFrame({'SRC': LIST_files_to_group})\n",
    "DF['group'] = DF['SRC'].str.split('/',expand=True)[3].str.replace('_aad','~').str.split('~').str[0]\n",
    "print(\"Grouping \"+str(len(DF))+\" fastas based on their source genome and aad\")\n",
    "\n",
    "### Create a directory for each group\n",
    "LIST_dirs = list(DF['group'].value_counts().to_dict().keys())\n",
    "for DIR in LIST_dirs:\n",
    "    DIR_to_make = \"./mid/1_grouped_genomes/\"+DIR+\"/\"\n",
    "    if not exists(DIR_to_make):\n",
    "        os.mkdir(DIR_to_make)\n",
    "print(\"Made folder for each group\")\n",
    "\n",
    "### Copy each fasta into its groupdir\n",
    "DF[\"basename\"] = DF['SRC'].str.split('/',expand=True)[3]\n",
    "DF['DST'] = \"./mid/1_grouped_genomes/\" + DF['group'] + \"/\" + DF['basename']  # Derive destination name\n",
    "\n",
    "for index, row in DF.iterrows():\n",
    "    if not exists(row['DST']):\n",
    "        shutil.copyfile(row['SRC'], row['DST'])\n",
    "print(\"Copied each file into its group directory\")"
   ]
  },
  {
   "cell_type": "markdown",
   "metadata": {},
   "source": [
    "### III. GZIP each group"
   ]
  },
  {
   "cell_type": "code",
   "execution_count": 103,
   "metadata": {},
   "outputs": [
    {
     "name": "stdout",
     "output_type": "stream",
     "text": [
      "./mid/1_grouped_genomes/AG-359-G18_a22\n",
      "./mid/1_grouped_genomes/AG-359-G18_a5\n",
      "./mid/1_grouped_genomes/AG-390-D15_a22\n",
      "./mid/1_grouped_genomes/AG-390-D15_a5\n",
      "./mid/1_grouped_genomes/AG-390-N04_a22\n",
      "./mid/1_grouped_genomes/AG-390-N04_a5\n",
      "./mid/1_grouped_genomes/AG-414-L04_a22\n",
      "./mid/1_grouped_genomes/AG-414-L04_a5\n",
      "./mid/1_grouped_genomes/AG-426-E17_a22\n",
      "./mid/1_grouped_genomes/AG-426-E17_a5\n",
      "./mid/1_grouped_genomes/AG-435-F03_a22\n",
      "./mid/1_grouped_genomes/AG-435-F03_a5\n",
      "./mid/1_grouped_genomes/AG-891-G05_a22\n",
      "./mid/1_grouped_genomes/AG-891-G05_a5\n",
      "./mid/1_grouped_genomes/AG-891-I18_a22\n",
      "./mid/1_grouped_genomes/AG-891-I18_a5\n",
      "./mid/1_grouped_genomes/AG-891-J04_a22\n",
      "./mid/1_grouped_genomes/AG-891-J04_a5\n",
      "./mid/1_grouped_genomes/AG-891-J07_a22\n",
      "./mid/1_grouped_genomes/AG-891-J07_a5\n",
      "./mid/1_grouped_genomes/AG-891-K05_a22\n",
      "./mid/1_grouped_genomes/AG-891-K05_a5\n",
      "./mid/1_grouped_genomes/AG-892-F15_a22\n",
      "./mid/1_grouped_genomes/AG-892-F15_a5\n",
      "./mid/1_grouped_genomes/AG-893-E23_a22\n",
      "./mid/1_grouped_genomes/AG-893-E23_a5\n",
      "./mid/1_grouped_genomes/AG-893-F11_a22\n",
      "./mid/1_grouped_genomes/AG-893-F11_a5\n",
      "./mid/1_grouped_genomes/AG-893-F23_a22\n",
      "./mid/1_grouped_genomes/AG-893-F23_a5\n",
      "./mid/1_grouped_genomes/AG-893-K09_a22\n",
      "./mid/1_grouped_genomes/AG-893-K09_a5\n",
      "./mid/1_grouped_genomes/AG-894-C14_a22\n",
      "./mid/1_grouped_genomes/AG-894-C14_a5\n",
      "./mid/1_grouped_genomes/AG-894-K15_a22\n",
      "./mid/1_grouped_genomes/AG-894-K15_a5\n",
      "./mid/1_grouped_genomes/AG-894-P05_a22\n",
      "./mid/1_grouped_genomes/AG-894-P05_a5\n",
      "./mid/1_grouped_genomes/AG-899-G06_a22\n",
      "./mid/1_grouped_genomes/AG-899-G06_a5\n",
      "./mid/1_grouped_genomes/AG-900-I13_a22\n",
      "./mid/1_grouped_genomes/AG-900-I13_a5\n",
      "./mid/1_grouped_genomes/AG-904-K03_a22\n",
      "./mid/1_grouped_genomes/AG-904-K03_a5\n",
      "./mid/1_grouped_genomes/AG-908-A02_a22\n",
      "./mid/1_grouped_genomes/AG-908-A02_a5\n",
      "./mid/1_grouped_genomes/AG-909-F14_a22\n",
      "./mid/1_grouped_genomes/AG-909-F14_a5\n",
      "./mid/1_grouped_genomes/AG-912-G22_a22\n",
      "./mid/1_grouped_genomes/AG-912-G22_a5\n",
      "./mid/1_grouped_genomes/AG-917-K06_a22\n",
      "./mid/1_grouped_genomes/AG-917-K06_a5\n",
      "./mid/1_grouped_genomes/AG-920-L07_a22\n",
      "./mid/1_grouped_genomes/AG-920-L07_a5\n",
      "./mid/1_grouped_genomes/AH-287-F15_a22\n",
      "./mid/1_grouped_genomes/AH-287-F15_a5\n"
     ]
    }
   ],
   "source": [
    "#!ls ./mid/1_grouped_genomes\n",
    "!for SAG_DIR in ./mid/1_grouped_genomes/*; do ID=${SAG_DIR%/}; echo $ID; done"
   ]
  },
  {
   "cell_type": "code",
   "execution_count": 99,
   "metadata": {},
   "outputs": [
    {
     "name": "stdout",
     "output_type": "stream",
     "text": [
      "AG-891-G05_a5+./mid/2_zipped_inputs/AG-891-G05_a5.tar.gz\n",
      "AG-891-G05_a22+./mid/2_zipped_inputs/AG-891-G05_a22.tar.gz\n",
      "AG-435-F03_a5+./mid/2_zipped_inputs/AG-435-F03_a5.tar.gz\n",
      "AG-435-F03_a22+./mid/2_zipped_inputs/AG-435-F03_a22.tar.gz\n",
      "AG-891-I18_a22+./mid/2_zipped_inputs/AG-891-I18_a22.tar.gz\n",
      "AG-891-I18_a5+./mid/2_zipped_inputs/AG-891-I18_a5.tar.gz\n",
      "AG-893-E23_a5+./mid/2_zipped_inputs/AG-893-E23_a5.tar.gz\n",
      "AG-893-E23_a22+./mid/2_zipped_inputs/AG-893-E23_a22.tar.gz\n",
      "AG-920-L07_a22+./mid/2_zipped_inputs/AG-920-L07_a22.tar.gz\n",
      "AG-920-L07_a5+./mid/2_zipped_inputs/AG-920-L07_a5.tar.gz\n",
      "AG-414-L04_a5+./mid/2_zipped_inputs/AG-414-L04_a5.tar.gz\n",
      "AG-414-L04_a22+./mid/2_zipped_inputs/AG-414-L04_a22.tar.gz\n",
      "AG-891-K05_a5+./mid/2_zipped_inputs/AG-891-K05_a5.tar.gz\n",
      "AG-891-K05_a22+./mid/2_zipped_inputs/AG-891-K05_a22.tar.gz\n",
      "AG-893-F11_a22+./mid/2_zipped_inputs/AG-893-F11_a22.tar.gz\n",
      "AG-893-F11_a5+./mid/2_zipped_inputs/AG-893-F11_a5.tar.gz\n",
      "AG-908-A02_a22+./mid/2_zipped_inputs/AG-908-A02_a22.tar.gz\n",
      "AG-908-A02_a5+./mid/2_zipped_inputs/AG-908-A02_a5.tar.gz\n",
      "AG-894-P05_a22+./mid/2_zipped_inputs/AG-894-P05_a22.tar.gz\n",
      "AG-894-P05_a5+./mid/2_zipped_inputs/AG-894-P05_a5.tar.gz\n",
      "AG-891-J07_a5+./mid/2_zipped_inputs/AG-891-J07_a5.tar.gz\n",
      "AG-891-J07_a22+./mid/2_zipped_inputs/AG-891-J07_a22.tar.gz\n",
      "AG-894-C14_a5+./mid/2_zipped_inputs/AG-894-C14_a5.tar.gz\n",
      "AG-894-C14_a22+./mid/2_zipped_inputs/AG-894-C14_a22.tar.gz\n",
      "AG-390-N04_a22+./mid/2_zipped_inputs/AG-390-N04_a22.tar.gz\n",
      "AG-390-N04_a5+./mid/2_zipped_inputs/AG-390-N04_a5.tar.gz\n",
      "AG-917-K06_a22+./mid/2_zipped_inputs/AG-917-K06_a22.tar.gz\n",
      "AG-904-K03_a5+./mid/2_zipped_inputs/AG-904-K03_a5.tar.gz\n",
      "AG-904-K03_a22+./mid/2_zipped_inputs/AG-904-K03_a22.tar.gz\n",
      "AG-894-K15_a22+./mid/2_zipped_inputs/AG-894-K15_a22.tar.gz\n",
      "AG-359-G18_a5+./mid/2_zipped_inputs/AG-359-G18_a5.tar.gz\n",
      "AG-909-F14_a5+./mid/2_zipped_inputs/AG-909-F14_a5.tar.gz\n",
      "AG-909-F14_a22+./mid/2_zipped_inputs/AG-909-F14_a22.tar.gz\n",
      "AG-900-I13_a22+./mid/2_zipped_inputs/AG-900-I13_a22.tar.gz\n",
      "AG-900-I13_a5+./mid/2_zipped_inputs/AG-900-I13_a5.tar.gz\n",
      "AG-893-K09_a22+./mid/2_zipped_inputs/AG-893-K09_a22.tar.gz\n",
      "AG-893-K09_a5+./mid/2_zipped_inputs/AG-893-K09_a5.tar.gz\n",
      "AG-892-F15_a5+./mid/2_zipped_inputs/AG-892-F15_a5.tar.gz\n",
      "AG-892-F15_a22+./mid/2_zipped_inputs/AG-892-F15_a22.tar.gz\n",
      "AG-893-F23_a5+./mid/2_zipped_inputs/AG-893-F23_a5.tar.gz\n",
      "AG-893-F23_a22+./mid/2_zipped_inputs/AG-893-F23_a22.tar.gz\n",
      "AG-359-G18_a22+./mid/2_zipped_inputs/AG-359-G18_a22.tar.gz\n",
      "AG-912-G22_a5+./mid/2_zipped_inputs/AG-912-G22_a5.tar.gz\n",
      "AG-894-K15_a5+./mid/2_zipped_inputs/AG-894-K15_a5.tar.gz\n",
      "AG-912-G22_a22+./mid/2_zipped_inputs/AG-912-G22_a22.tar.gz\n",
      "AG-390-D15_a22+./mid/2_zipped_inputs/AG-390-D15_a22.tar.gz\n",
      "AG-390-D15_a5+./mid/2_zipped_inputs/AG-390-D15_a5.tar.gz\n",
      "AG-891-J04_a5+./mid/2_zipped_inputs/AG-891-J04_a5.tar.gz\n",
      "AG-891-J04_a22+./mid/2_zipped_inputs/AG-891-J04_a22.tar.gz\n",
      "AG-899-G06_a22+./mid/2_zipped_inputs/AG-899-G06_a22.tar.gz\n",
      "AG-899-G06_a5+./mid/2_zipped_inputs/AG-899-G06_a5.tar.gz\n",
      "AG-426-E17_a22+./mid/2_zipped_inputs/AG-426-E17_a22.tar.gz\n",
      "AG-426-E17_a5+./mid/2_zipped_inputs/AG-426-E17_a5.tar.gz\n",
      "AH-287-F15_a5+./mid/2_zipped_inputs/AH-287-F15_a5.tar.gz\n",
      "AH-287-F15_a22+./mid/2_zipped_inputs/AH-287-F15_a22.tar.gz\n",
      "AG-917-K06_a5+./mid/2_zipped_inputs/AG-917-K06_a5.tar.gz\n",
      "done\n"
     ]
    }
   ],
   "source": [
    "import tarfile\n",
    "\n",
    "def make_tarfile(output_filename, source_dir):\n",
    "    with tarfile.open(output_filename, \"w:gz\") as tar:\n",
    "        tar.add(source_dir, arcname=os.path.basename(source_dir))\n",
    "\n",
    "for DIR in [x[0] for x in os.walk(\"./mid/1_grouped_genomes/\")][1:]:\n",
    "    basename = DIR.split('/')[-1]\n",
    "    DEST = \"./mid/2_zipped_inputs/\"+basename+\".tar.gz\"\n",
    "    print(basename+'+'+DEST)\n",
    "#    !tar cvzf ${basename}.tar.gz $DIR\n",
    "#    make_tarfile(DEST, DIR)\n",
    "#     !cd \"mid/1_grouped_genomes\"\n",
    "#     basename = DIR.split('/')[-1]\n",
    "#     DEST = basename+\".tar.gzip\"\n",
    "#     if not exists(DEST):\n",
    "#         print(\"compressing \"+ basename)\n",
    "#         make_tarfile(DEST, \"./\"+basename+\"/\")\n",
    "#     !cd ..\n",
    "print(\"done\")"
   ]
  },
  {
   "cell_type": "code",
   "execution_count": 83,
   "metadata": {},
   "outputs": [
    {
     "data": {
      "text/plain": [
       "['./mid/1_grouped_genomes/',\n",
       " './mid/1_grouped_genomes/AG-891-G05_a5',\n",
       " './mid/1_grouped_genomes/AG-891-G05_a22',\n",
       " './mid/1_grouped_genomes/AG-435-F03_a5',\n",
       " './mid/1_grouped_genomes/AG-435-F03_a22',\n",
       " './mid/1_grouped_genomes/AG-891-I18_a22',\n",
       " './mid/1_grouped_genomes/AG-891-I18_a5',\n",
       " './mid/1_grouped_genomes/AG-893-E23_a5',\n",
       " './mid/1_grouped_genomes/AG-893-E23_a22',\n",
       " './mid/1_grouped_genomes/AG-920-L07_a22',\n",
       " './mid/1_grouped_genomes/AG-920-L07_a5',\n",
       " './mid/1_grouped_genomes/AG-414-L04_a5',\n",
       " './mid/1_grouped_genomes/AG-414-L04_a22',\n",
       " './mid/1_grouped_genomes/AG-891-K05_a5',\n",
       " './mid/1_grouped_genomes/AG-891-K05_a22',\n",
       " './mid/1_grouped_genomes/AG-893-F11_a22',\n",
       " './mid/1_grouped_genomes/AG-893-F11_a5',\n",
       " './mid/1_grouped_genomes/AG-908-A02_a22',\n",
       " './mid/1_grouped_genomes/AG-908-A02_a5',\n",
       " './mid/1_grouped_genomes/AG-894-P05_a22',\n",
       " './mid/1_grouped_genomes/AG-894-P05_a5',\n",
       " './mid/1_grouped_genomes/AG-891-J07_a5',\n",
       " './mid/1_grouped_genomes/AG-891-J07_a22',\n",
       " './mid/1_grouped_genomes/AG-894-C14_a5',\n",
       " './mid/1_grouped_genomes/AG-894-C14_a22',\n",
       " './mid/1_grouped_genomes/AG-390-N04_a22',\n",
       " './mid/1_grouped_genomes/AG-390-N04_a5',\n",
       " './mid/1_grouped_genomes/AG-917-K06_a22',\n",
       " './mid/1_grouped_genomes/AG-904-K03_a5',\n",
       " './mid/1_grouped_genomes/AG-904-K03_a22',\n",
       " './mid/1_grouped_genomes/AG-894-K15_a22',\n",
       " './mid/1_grouped_genomes/AG-359-G18_a5',\n",
       " './mid/1_grouped_genomes/AG-909-F14_a5',\n",
       " './mid/1_grouped_genomes/AG-909-F14_a22',\n",
       " './mid/1_grouped_genomes/AG-900-I13_a22',\n",
       " './mid/1_grouped_genomes/AG-900-I13_a5',\n",
       " './mid/1_grouped_genomes/AG-893-K09_a22',\n",
       " './mid/1_grouped_genomes/AG-893-K09_a5',\n",
       " './mid/1_grouped_genomes/AG-892-F15_a5',\n",
       " './mid/1_grouped_genomes/AG-892-F15_a22',\n",
       " './mid/1_grouped_genomes/AG-893-F23_a5',\n",
       " './mid/1_grouped_genomes/AG-893-F23_a22',\n",
       " './mid/1_grouped_genomes/AG-359-G18_a22',\n",
       " './mid/1_grouped_genomes/AG-912-G22_a5',\n",
       " './mid/1_grouped_genomes/AG-894-K15_a5',\n",
       " './mid/1_grouped_genomes/AG-912-G22_a22',\n",
       " './mid/1_grouped_genomes/AG-390-D15_a22',\n",
       " './mid/1_grouped_genomes/AG-390-D15_a5',\n",
       " './mid/1_grouped_genomes/AG-891-J04_a5',\n",
       " './mid/1_grouped_genomes/AG-891-J04_a22',\n",
       " './mid/1_grouped_genomes/AG-899-G06_a22',\n",
       " './mid/1_grouped_genomes/AG-899-G06_a5',\n",
       " './mid/1_grouped_genomes/AG-426-E17_a22',\n",
       " './mid/1_grouped_genomes/AG-426-E17_a5',\n",
       " './mid/1_grouped_genomes/AH-287-F15_a5',\n",
       " './mid/1_grouped_genomes/AH-287-F15_a22',\n",
       " './mid/1_grouped_genomes/AG-917-K06_a5']"
      ]
     },
     "execution_count": 83,
     "metadata": {},
     "output_type": "execute_result"
    }
   ],
   "source": [
    "[x[0] for x in os.walk(\"./mid/1_grouped_genomes/\")]\n",
    "\n",
    "\n"
   ]
  },
  {
   "cell_type": "code",
   "execution_count": null,
   "metadata": {},
   "outputs": [],
   "source": []
  }
 ],
 "metadata": {
  "kernelspec": {
   "display_name": "Python 3",
   "language": "python",
   "name": "python3"
  },
  "language_info": {
   "codemirror_mode": {
    "name": "ipython",
    "version": 3
   },
   "file_extension": ".py",
   "mimetype": "text/x-python",
   "name": "python",
   "nbconvert_exporter": "python",
   "pygments_lexer": "ipython3",
   "version": "3.7.3"
  }
 },
 "nbformat": 4,
 "nbformat_minor": 4
}
